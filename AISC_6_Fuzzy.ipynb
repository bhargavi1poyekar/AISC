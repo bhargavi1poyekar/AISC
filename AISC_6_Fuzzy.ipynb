{
  "nbformat": 4,
  "nbformat_minor": 0,
  "metadata": {
    "colab": {
      "name": "AISC_6_Fuzzy.ipynb",
      "provenance": [],
      "collapsed_sections": []
    },
    "kernelspec": {
      "name": "python3",
      "display_name": "Python 3"
    },
    "language_info": {
      "name": "python"
    }
  },
  "cells": [
    {
      "cell_type": "markdown",
      "metadata": {
        "id": "cNwi-DpI7jGj"
      },
      "source": [
        "### Name: Bhargavi Poyekar\n",
        "### BE COMPS - Batch C\n",
        "### UID: 2018130040"
      ]
    },
    {
      "cell_type": "markdown",
      "metadata": {
        "id": "l6dVuxV_7m5M"
      },
      "source": [
        "# AISC LAB 6\n",
        "\n"
      ]
    },
    {
      "cell_type": "markdown",
      "metadata": {
        "id": "ailEATIl8B5V"
      },
      "source": [
        "## AIM: To implement Fuzzy Sets and Fuzzy Relations"
      ]
    },
    {
      "cell_type": "markdown",
      "metadata": {
        "id": "_UlU4rE48NRv"
      },
      "source": [
        "## CODE:"
      ]
    },
    {
      "cell_type": "code",
      "metadata": {
        "id": "U1aAWiRxJqTj"
      },
      "source": [
        "import numpy as np"
      ],
      "execution_count": 26,
      "outputs": []
    },
    {
      "cell_type": "markdown",
      "metadata": {
        "id": "e2YnulnP8hEM"
      },
      "source": [
        "###Fuzzy Sets\n"
      ]
    },
    {
      "cell_type": "code",
      "metadata": {
        "id": "xCsnKfiY340q",
        "colab": {
          "base_uri": "https://localhost:8080/"
        },
        "outputId": "ec97ee89-9778-48be-a5d0-5d70fba08dfc"
      },
      "source": [
        "An=[0.8,0.2,0.5,0.7]\n",
        "Ad=[1,3,5,7]\n",
        "\n",
        "Bn=[0.3,0.4,0.1,0.9]\n",
        "Bd=[1,3,5,7]\n",
        "\n",
        "print(\"Fuzzy Set A: \")\n",
        "print(\"{ \",end=\"\")\n",
        "for i in range(len(An)-1):\n",
        "  print(f'{An[i]}/{Ad[i]} + ', end=\"\") \n",
        "\n",
        "print(f'{An[len(An)-1]}/{Ad[len(An)-1]}',end=\"\")\n",
        "print(\"}\")\n",
        "\n",
        "print(\"\\nFuzzy Set B: \")\n",
        "print(\"{ \",end=\"\")\n",
        "for i in range(len(Bn)-1):\n",
        "  print(f'{Bn[i]}/{Bd[i]} + ', end=\"\") \n",
        "\n",
        "print(f'{Bn[len(Bn)-1]}/{Bd[len(Bn)-1]}',end=\"\")\n",
        "print(\"}\")\n",
        "\n",
        "\n"
      ],
      "execution_count": 8,
      "outputs": [
        {
          "output_type": "stream",
          "name": "stdout",
          "text": [
            "Fuzzy Set A: \n",
            "{ 0.8/1 + 0.2/3 + 0.5/5 + 0.7/7}\n",
            "\n",
            "Fuzzy Set B: \n",
            "{ 0.3/1 + 0.4/3 + 0.1/5 + 0.9/7}\n"
          ]
        }
      ]
    },
    {
      "cell_type": "markdown",
      "metadata": {
        "id": "O6evMqyy_LUt"
      },
      "source": [
        "### Union "
      ]
    },
    {
      "cell_type": "code",
      "metadata": {
        "colab": {
          "base_uri": "https://localhost:8080/"
        },
        "id": "faZrDpOO_Rqw",
        "outputId": "bfdab4ab-abcb-44f1-a8d5-6e3bc3362605"
      },
      "source": [
        "print(\"Union of A and B = max[An(x), Bn(x)]: \")\n",
        "print(\"{ \",end=\"\")\n",
        "for i in range(len(An)-1):\n",
        "  print(f'{max(An[i],Bn[i])}/{Ad[i]} + ', end=\"\") \n",
        "\n",
        "print(f'{max(An[len(An)-1],Bn[len(Bn)-1])}/{Ad[len(An)-1]}',end=\"\")\n",
        "print(\"}\")\n",
        "\n"
      ],
      "execution_count": 9,
      "outputs": [
        {
          "output_type": "stream",
          "name": "stdout",
          "text": [
            "Union A and B = max[An(x), Bn(x)]: \n",
            "{ 0.8/1 + 0.4/3 + 0.5/5 + 0.9/7}\n"
          ]
        }
      ]
    },
    {
      "cell_type": "markdown",
      "metadata": {
        "id": "c91zYyteANR9"
      },
      "source": [
        "###Intersection"
      ]
    },
    {
      "cell_type": "code",
      "metadata": {
        "colab": {
          "base_uri": "https://localhost:8080/"
        },
        "id": "o3SNbcQTAWfz",
        "outputId": "6d78ec63-7d10-481e-f191-6dc5ad4c3c46"
      },
      "source": [
        "print(\"Intersection of A and B = min[An(x), Bn(x)]: \")\n",
        "print(\"{ \",end=\"\")\n",
        "for i in range(len(An)-1):\n",
        "  print(f'{min(An[i],Bn[i])}/{Ad[i]} + ', end=\"\") \n",
        "\n",
        "print(f'{min(An[len(An)-1],Bn[len(Bn)-1])}/{Ad[len(An)-1]}',end=\"\")\n",
        "print(\"}\")\n",
        "\n"
      ],
      "execution_count": 10,
      "outputs": [
        {
          "output_type": "stream",
          "name": "stdout",
          "text": [
            "Intersection of A and B = min[An(x), Bn(x)]: \n",
            "{ 0.3/1 + 0.2/3 + 0.1/5 + 0.7/7}\n"
          ]
        }
      ]
    },
    {
      "cell_type": "markdown",
      "metadata": {
        "id": "GWMSrho4Aq4o"
      },
      "source": [
        "### Complement "
      ]
    },
    {
      "cell_type": "code",
      "metadata": {
        "colab": {
          "base_uri": "https://localhost:8080/"
        },
        "id": "YlpeY8GBAwbH",
        "outputId": "eb6e549f-cacd-4f05-9432-e83572cb57b3"
      },
      "source": [
        "# Complement of A\n",
        "print(\"Complement of A = 1-An(x): \")\n",
        "print(\"{ \",end=\"\")\n",
        "for i in range(len(An)-1):\n",
        "  print(f'{round(1-An[i],1)}/{Ad[i]} + ', end=\"\") \n",
        "\n",
        "print(f'{round(1-An[len(An)-1],1)}/{Ad[len(An)-1]}',end=\"\")\n",
        "print(\"}\")"
      ],
      "execution_count": 13,
      "outputs": [
        {
          "output_type": "stream",
          "name": "stdout",
          "text": [
            "Complement of A = 1-An(x): \n",
            "{ 0.2/1 + 0.8/3 + 0.5/5 + 0.3/7}\n"
          ]
        }
      ]
    },
    {
      "cell_type": "code",
      "metadata": {
        "colab": {
          "base_uri": "https://localhost:8080/"
        },
        "id": "cpiYCVtnBfIF",
        "outputId": "d1b0e7ab-685f-4c59-ca95-584f34a82a4b"
      },
      "source": [
        "# Complement of B\n",
        "print(\"Complement of B = 1-Bn(x): \")\n",
        "print(\"{ \",end=\"\")\n",
        "for i in range(len(Bn)-1):\n",
        "  print(f'{round(1-Bn[i],1)}/{Bd[i]} + ', end=\"\") \n",
        "\n",
        "print(f'{round(1-Bn[len(Bn)-1],1)}/{Bd[len(Bn)-1]}',end=\"\")\n",
        "print(\"}\")"
      ],
      "execution_count": 14,
      "outputs": [
        {
          "output_type": "stream",
          "name": "stdout",
          "text": [
            "Complement of B = 1-Bn(x): \n",
            "{ 0.7/1 + 0.6/3 + 0.9/5 + 0.1/7}\n"
          ]
        }
      ]
    },
    {
      "cell_type": "markdown",
      "metadata": {
        "id": "w058bAPcBuZv"
      },
      "source": [
        "### Difference"
      ]
    },
    {
      "cell_type": "code",
      "metadata": {
        "colab": {
          "base_uri": "https://localhost:8080/"
        },
        "id": "lIhDLxSHByCm",
        "outputId": "687677c0-7789-4169-e4fb-3c5d74a57701"
      },
      "source": [
        "# A|B\n",
        "print(\"A|B = min[An(x), (1-Bn(x))]\") # A intersection complement of B\n",
        "print(\"{ \",end=\"\")\n",
        "for i in range(len(An)-1):\n",
        "  print(f'{min(An[i],round(1-Bn[i],1))}/{Ad[i]} + ', end=\"\") \n",
        "\n",
        "print(f'{min(An[len(An)-1],round(1-Bn[len(Bn)-1],1))}/{Ad[len(An)-1]}',end=\"\")\n",
        "print(\"}\")"
      ],
      "execution_count": 17,
      "outputs": [
        {
          "output_type": "stream",
          "name": "stdout",
          "text": [
            "A|B = min[An(x), (1-Bn(x))]\n",
            "{ 0.7/1 + 0.2/3 + 0.5/5 + 0.1/7}\n"
          ]
        }
      ]
    },
    {
      "cell_type": "code",
      "metadata": {
        "colab": {
          "base_uri": "https://localhost:8080/"
        },
        "id": "wRBWvsTnDD1w",
        "outputId": "3cfd6e8b-6119-4376-d5dd-19fc31dbcba3"
      },
      "source": [
        "# B|A\n",
        "print(\"B|A = min[Bn(x), (1-An(x))]\") # B intersection complement of A\n",
        "print(\"{ \",end=\"\")\n",
        "for i in range(len(An)-1):\n",
        "  print(f'{min(Bn[i],round(1-An[i],1))}/{Ad[i]} + ', end=\"\") \n",
        "\n",
        "print(f'{min(Bn[len(Bn)-1],round(1-An[len(An)-1],1))}/{Ad[len(An)-1]}',end=\"\")\n",
        "print(\"}\")"
      ],
      "execution_count": 18,
      "outputs": [
        {
          "output_type": "stream",
          "name": "stdout",
          "text": [
            "B|A = min[Bn(x), (1-An(x))]\n",
            "{ 0.2/1 + 0.4/3 + 0.1/5 + 0.3/7}\n"
          ]
        }
      ]
    },
    {
      "cell_type": "markdown",
      "metadata": {
        "id": "8s8deOn6Dv9b"
      },
      "source": [
        "### Fuzzy Relations"
      ]
    },
    {
      "cell_type": "code",
      "metadata": {
        "colab": {
          "base_uri": "https://localhost:8080/"
        },
        "id": "3C0tVMi2DzQ5",
        "outputId": "ddbc8057-71e1-43c3-c59f-80da3551600d"
      },
      "source": [
        "# Three fuzzy sets\n",
        "Rn = [0.5, 0.8, 0.4, 0.2]\n",
        "Rd = [30, 60, 100, 120]\n",
        "\n",
        "In = [0.1, 0.5, 0.7, 0.9, 0.3, 1.0]\n",
        "Id = [20, 40, 60, 80, 100, 120]\n",
        "\n",
        "Nn = [0.23, 0.54, 0.87, 0.45]\n",
        "Nd = [500, 1000, 1500, 1800]\n",
        "\n",
        "print(\"Fuzzy Set R: \")\n",
        "print(\"{ \",end=\"\")\n",
        "for i in range(len(Rn)-1):\n",
        "  print(f'{Rn[i]}/{Rd[i]} + ', end=\"\") \n",
        "\n",
        "print(f'{Rn[len(Rn)-1]}/{Rd[len(Rn)-1]}',end=\"\")\n",
        "print(\"}\")\n",
        "\n",
        "print(\"\\nFuzzy Set I: \")\n",
        "print(\"{ \",end=\"\")\n",
        "for i in range(len(In)-1):\n",
        "  print(f'{In[i]}/{Id[i]} + ', end=\"\") \n",
        "\n",
        "print(f'{In[len(In)-1]}/{Id[len(In)-1]}',end=\"\")\n",
        "print(\"}\")\n",
        "\n",
        "print(\"\\nFuzzy Set N: \")\n",
        "print(\"{ \",end=\"\")\n",
        "for i in range(len(Nn)-1):\n",
        "  print(f'{Nn[i]}/{Nd[i]} + ', end=\"\") \n",
        "\n",
        "print(f'{Nn[len(Nn)-1]}/{Nd[len(Nn)-1]}',end=\"\")\n",
        "print(\"}\")"
      ],
      "execution_count": 34,
      "outputs": [
        {
          "output_type": "stream",
          "name": "stdout",
          "text": [
            "Fuzzy Set R: \n",
            "{ 0.5/30 + 0.8/60 + 0.4/100 + 0.2/120}\n",
            "\n",
            "Fuzzy Set I: \n",
            "{ 0.1/20 + 0.5/40 + 0.7/60 + 0.9/80 + 0.3/100 + 1.0/120}\n",
            "\n",
            "Fuzzy Set N: \n",
            "{ 0.23/500 + 0.54/1000 + 0.87/1500 + 0.45/1800}\n"
          ]
        }
      ]
    },
    {
      "cell_type": "markdown",
      "metadata": {
        "id": "mlKm6GeFH54e"
      },
      "source": [
        "### R to N relation"
      ]
    },
    {
      "cell_type": "code",
      "metadata": {
        "colab": {
          "base_uri": "https://localhost:8080/"
        },
        "id": "ouB3h24yIQsY",
        "outputId": "fea40534-8e7e-4719-e233-36d6c335f162"
      },
      "source": [
        "# R` = R X I (Cartesian Product)\n",
        "\n",
        "Rp = []\n",
        "for r in Rn:\n",
        "  row=[]\n",
        "  for i in In:\n",
        "    row.append(min(r, i))\n",
        "  Rp.append(row)\n",
        "\n",
        "Rp"
      ],
      "execution_count": 35,
      "outputs": [
        {
          "output_type": "execute_result",
          "data": {
            "text/plain": [
              "[[0.1, 0.5, 0.5, 0.5, 0.3, 0.5],\n",
              " [0.1, 0.5, 0.7, 0.8, 0.3, 0.8],\n",
              " [0.1, 0.4, 0.4, 0.4, 0.3, 0.4],\n",
              " [0.1, 0.2, 0.2, 0.2, 0.2, 0.2]]"
            ]
          },
          "metadata": {},
          "execution_count": 35
        }
      ]
    },
    {
      "cell_type": "code",
      "metadata": {
        "colab": {
          "base_uri": "https://localhost:8080/"
        },
        "id": "_wEwa5rlI1eS",
        "outputId": "0133b97d-667c-4794-b21f-760d5e4b8f40"
      },
      "source": [
        "# S` = I X N (Cartesian Product)\n",
        "\n",
        "Sp = []\n",
        "for i in In:\n",
        "  row=[]\n",
        "  for n in Nn:\n",
        "    row.append(min(n, i))\n",
        "  Sp.append(row)\n",
        "  \n",
        "Sp"
      ],
      "execution_count": 36,
      "outputs": [
        {
          "output_type": "execute_result",
          "data": {
            "text/plain": [
              "[[0.1, 0.1, 0.1, 0.1],\n",
              " [0.23, 0.5, 0.5, 0.45],\n",
              " [0.23, 0.54, 0.7, 0.45],\n",
              " [0.23, 0.54, 0.87, 0.45],\n",
              " [0.23, 0.3, 0.3, 0.3],\n",
              " [0.23, 0.54, 0.87, 0.45]]"
            ]
          },
          "metadata": {},
          "execution_count": 36
        }
      ]
    },
    {
      "cell_type": "code",
      "metadata": {
        "id": "F26nJGVuJhCK"
      },
      "source": [
        "Rp = np.array(Rp)\n",
        "Sp = np.array(Sp)\n"
      ],
      "execution_count": 37,
      "outputs": []
    },
    {
      "cell_type": "markdown",
      "metadata": {
        "id": "RqRisrLSJ5fp"
      },
      "source": [
        "### Max-min composition\n"
      ]
    },
    {
      "cell_type": "code",
      "metadata": {
        "colab": {
          "base_uri": "https://localhost:8080/"
        },
        "id": "65bBMiGaJ-NT",
        "outputId": "c9750092-8118-4afa-b2c1-96533e12e7b3"
      },
      "source": [
        "SpT= np.transpose(Sp)\n",
        "min_max = []\n",
        "for r in range(len(Rp)):\n",
        "  for k in range(len(SpT)):\n",
        "    row = []\n",
        "    for s in range(len(SpT[0])):\n",
        "      row.append(min(Rp[r][s], SpT[k][s]))\n",
        "    min_max.append(max(row))\n",
        "T = []\n",
        "row = []\n",
        "for i in range(len(min_max)):\n",
        "  if i == len(min_max)-1:\n",
        "    T.append(row)\n",
        "  if i%4 == 0 and i!=0:\n",
        "    T.append(row)\n",
        "    row = []\n",
        "  row.append(min_max[i])\n",
        "print(np.array(T))"
      ],
      "execution_count": 38,
      "outputs": [
        {
          "output_type": "stream",
          "name": "stdout",
          "text": [
            "[[0.23 0.5  0.5  0.45]\n",
            " [0.23 0.54 0.8  0.45]\n",
            " [0.23 0.4  0.4  0.4 ]\n",
            " [0.2  0.2  0.2  0.2 ]]\n"
          ]
        }
      ]
    },
    {
      "cell_type": "markdown",
      "metadata": {
        "id": "zWG9tmsiK3tI"
      },
      "source": [
        "### Max-product Composition"
      ]
    },
    {
      "cell_type": "code",
      "metadata": {
        "colab": {
          "base_uri": "https://localhost:8080/"
        },
        "id": "EUF_ttCkK8_L",
        "outputId": "dc3e80ea-a972-4e91-d67c-c8661d15bf73"
      },
      "source": [
        "max_prod = []\n",
        "for r in range(len(Rp)):\n",
        "  for k in range(len(SpT)):\n",
        "    row = []\n",
        "    for s in range(len(SpT[0])):\n",
        "      row.append(Rp[r][s]*SpT[k][s])\n",
        "    max_prod.append(max(row))\n",
        "T = []\n",
        "row = []\n",
        "for i in range(len(max_prod)):\n",
        "  if i == len(max_prod)-1:\n",
        "    T.append(row)\n",
        "  if i%4 == 0 and i!=0:\n",
        "    T.append(row)\n",
        "    row = []\n",
        "  row.append(max_prod[i])\n",
        "print(np.array(T))"
      ],
      "execution_count": 39,
      "outputs": [
        {
          "output_type": "stream",
          "name": "stdout",
          "text": [
            "[[0.115 0.27  0.435 0.225]\n",
            " [0.184 0.432 0.696 0.36 ]\n",
            " [0.092 0.216 0.348 0.18 ]\n",
            " [0.046 0.108 0.174 0.09 ]]\n"
          ]
        }
      ]
    }
  ]
}