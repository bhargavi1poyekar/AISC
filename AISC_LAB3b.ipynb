{
  "nbformat": 4,
  "nbformat_minor": 0,
  "metadata": {
    "colab": {
      "name": "AISC_LAB3b.ipynb",
      "provenance": [],
      "collapsed_sections": []
    },
    "kernelspec": {
      "name": "python3",
      "display_name": "Python 3"
    },
    "language_info": {
      "name": "python"
    }
  },
  "cells": [
    {
      "cell_type": "markdown",
      "metadata": {
        "id": "cqNkgp50cA6o"
      },
      "source": [
        "### Name: Bhargavi Poyekar\n",
        "### BE COMPS - Batch C\n",
        "### UID: 2018130040"
      ]
    },
    {
      "cell_type": "markdown",
      "metadata": {
        "id": "k2XM4z7ecSwm"
      },
      "source": [
        "# AISC LAB 3\n"
      ]
    },
    {
      "cell_type": "markdown",
      "metadata": {
        "id": "v9wzFHWGcUZy"
      },
      "source": [
        "## AIM: To implement Basic Neural Network learning rules"
      ]
    },
    {
      "cell_type": "markdown",
      "metadata": {
        "id": "6saB3TVDcjBE"
      },
      "source": [
        "## CODE:\n"
      ]
    },
    {
      "cell_type": "markdown",
      "metadata": {
        "id": "T1vuvyGxcr-R"
      },
      "source": [
        "### Load the Data\n"
      ]
    },
    {
      "cell_type": "code",
      "metadata": {
        "colab": {
          "base_uri": "https://localhost:8080/",
          "height": 354
        },
        "id": "RDMS9jgHb9yb",
        "outputId": "358af300-a924-4172-b274-6e927b0ed6a4"
      },
      "source": [
        "import pandas as pd\n",
        "import numpy as np\n",
        "import math\n",
        "import matplotlib.pyplot as plt\n",
        "\n",
        "data_df= pd.read_csv('fruit_input.csv')\n",
        "data_df\n"
      ],
      "execution_count": null,
      "outputs": [
        {
          "output_type": "execute_result",
          "data": {
            "text/html": [
              "<div>\n",
              "<style scoped>\n",
              "    .dataframe tbody tr th:only-of-type {\n",
              "        vertical-align: middle;\n",
              "    }\n",
              "\n",
              "    .dataframe tbody tr th {\n",
              "        vertical-align: top;\n",
              "    }\n",
              "\n",
              "    .dataframe thead th {\n",
              "        text-align: right;\n",
              "    }\n",
              "</style>\n",
              "<table border=\"1\" class=\"dataframe\">\n",
              "  <thead>\n",
              "    <tr style=\"text-align: right;\">\n",
              "      <th></th>\n",
              "      <th>shape</th>\n",
              "      <th>texture</th>\n",
              "      <th>fruit_type</th>\n",
              "    </tr>\n",
              "  </thead>\n",
              "  <tbody>\n",
              "    <tr>\n",
              "      <th>0</th>\n",
              "      <td>0.96</td>\n",
              "      <td>0.60</td>\n",
              "      <td>1</td>\n",
              "    </tr>\n",
              "    <tr>\n",
              "      <th>1</th>\n",
              "      <td>0.83</td>\n",
              "      <td>-0.43</td>\n",
              "      <td>0</td>\n",
              "    </tr>\n",
              "    <tr>\n",
              "      <th>2</th>\n",
              "      <td>0.60</td>\n",
              "      <td>0.97</td>\n",
              "      <td>1</td>\n",
              "    </tr>\n",
              "    <tr>\n",
              "      <th>3</th>\n",
              "      <td>0.12</td>\n",
              "      <td>0.68</td>\n",
              "      <td>1</td>\n",
              "    </tr>\n",
              "    <tr>\n",
              "      <th>4</th>\n",
              "      <td>0.62</td>\n",
              "      <td>-0.43</td>\n",
              "      <td>0</td>\n",
              "    </tr>\n",
              "    <tr>\n",
              "      <th>5</th>\n",
              "      <td>-0.76</td>\n",
              "      <td>0.99</td>\n",
              "      <td>1</td>\n",
              "    </tr>\n",
              "    <tr>\n",
              "      <th>6</th>\n",
              "      <td>-0.58</td>\n",
              "      <td>-0.71</td>\n",
              "      <td>0</td>\n",
              "    </tr>\n",
              "    <tr>\n",
              "      <th>7</th>\n",
              "      <td>0.67</td>\n",
              "      <td>0.03</td>\n",
              "      <td>0</td>\n",
              "    </tr>\n",
              "    <tr>\n",
              "      <th>8</th>\n",
              "      <td>0.73</td>\n",
              "      <td>0.34</td>\n",
              "      <td>1</td>\n",
              "    </tr>\n",
              "    <tr>\n",
              "      <th>9</th>\n",
              "      <td>0.27</td>\n",
              "      <td>-0.56</td>\n",
              "      <td>0</td>\n",
              "    </tr>\n",
              "  </tbody>\n",
              "</table>\n",
              "</div>"
            ],
            "text/plain": [
              "   shape  texture  fruit_type\n",
              "0   0.96     0.60           1\n",
              "1   0.83    -0.43           0\n",
              "2   0.60     0.97           1\n",
              "3   0.12     0.68           1\n",
              "4   0.62    -0.43           0\n",
              "5  -0.76     0.99           1\n",
              "6  -0.58    -0.71           0\n",
              "7   0.67     0.03           0\n",
              "8   0.73     0.34           1\n",
              "9   0.27    -0.56           0"
            ]
          },
          "metadata": {},
          "execution_count": 9
        }
      ]
    },
    {
      "cell_type": "markdown",
      "metadata": {
        "id": "GHIjEB1GW9X-"
      },
      "source": [
        "### Pairwise Plotting"
      ]
    },
    {
      "cell_type": "code",
      "metadata": {
        "colab": {
          "base_uri": "https://localhost:8080/",
          "height": 390
        },
        "id": "KjGyim-SfRBZ",
        "outputId": "7d4dc61c-6619-432d-9b90-1b592b37b9a1"
      },
      "source": [
        "import seaborn as sns\n",
        "sns.pairplot(data_df, hue='fruit_type')"
      ],
      "execution_count": null,
      "outputs": [
        {
          "output_type": "execute_result",
          "data": {
            "text/plain": [
              "<seaborn.axisgrid.PairGrid at 0x7ff2abf3e710>"
            ]
          },
          "metadata": {},
          "execution_count": 10
        },
        {
          "output_type": "display_data",
          "data": {
            "image/png": "[encoded data removed]",
            "text/plain": [
              "<Figure size 416x360 with 6 Axes>"
            ]
          },
          "metadata": {
            "needs_background": "light"
          }
        }
      ]
    },
    {
      "cell_type": "code",
      "metadata": {
        "colab": {
          "base_uri": "https://localhost:8080/"
        },
        "id": "CHOURDV4ftb4",
        "outputId": "b1e2ac41-a653-44a7-f685-10d4f1366e76"
      },
      "source": [
        "from sklearn.model_selection import train_test_split\n",
        "\n",
        "target = data_df['fruit_type']\n",
        "data = data_df[['shape', 'texture']]\n",
        "\n",
        "X_train, X_test, y_train, y_test = train_test_split(data, target, test_size=0.30, random_state = 45)\n",
        "\n",
        "X_train.shape"
      ],
      "execution_count": null,
      "outputs": [
        {
          "output_type": "execute_result",
          "data": {
            "text/plain": [
              "(7, 2)"
            ]
          },
          "metadata": {},
          "execution_count": 11
        }
      ]
    },
    {
      "cell_type": "code",
      "metadata": {
        "id": "dkSEz53lf2OD"
      },
      "source": [
        "#Initialize the weights and the bias\n",
        "\n",
        "wts = np.random.uniform(0,1,X_train.shape[1])\n",
        "bias = np.random.uniform(0,1,1)"
      ],
      "execution_count": null,
      "outputs": []
    },
    {
      "cell_type": "code",
      "metadata": {
        "colab": {
          "base_uri": "https://localhost:8080/"
        },
        "id": "1UugEbSzgCFw",
        "outputId": "927ec189-1bce-40b2-9709-92d363dc4829"
      },
      "source": [
        "#defining the epochs and the learning rate\n",
        "alpha = 0.1\n",
        "epochs = 25\n",
        "\n",
        "cost_list = []\n",
        "\n",
        "# for each epoch\n",
        "for i in range(epochs):\n",
        "  epoch_cost = 0\n",
        "\n",
        "  x_train = np.array(X_train)\n",
        "  # for each entry initialize the values\n",
        "  for xi, target in zip(x_train, y_train):\n",
        "    # Calculate the net input\n",
        "    yin = np.dot(xi, wts) + bias\n",
        "\n",
        "    #apply activation function\n",
        "    pred = math.tanh(yin)\n",
        "\n",
        "    #Calculating cost\n",
        "    cost = np.square(target - pred)\n",
        "    epoch_cost += float(cost/len(X_train)) #MSE\n",
        "\n",
        "    # Update weights and biases\n",
        "\n",
        "    update = alpha * (target - pred)\n",
        "    wts += update * xi\n",
        "    bias += update\n",
        "\n",
        "  # Store MSE through every epoch iteration\n",
        "  cost_list.append(epoch_cost)\n",
        "\n",
        "  #print model improvements\n",
        "  print(\"Epoch: {:04}\\tLoss: {:06.5f}\".format((i+1), epoch_cost), end='')\n",
        "  print(\"\\t\\tRegression: {:.2f}(X1) + {:.2f}(X2) + {:.2f}\".format(wts[0], wts[1], float(bias)))\n"
      ],
      "execution_count": null,
      "outputs": [
        {
          "output_type": "stream",
          "name": "stdout",
          "text": [
            "Epoch: 0001\tLoss: 0.08931\t\tRegression: -0.73(X1) + 2.20(X2) + 0.90\n",
            "Epoch: 0002\tLoss: 0.07981\t\tRegression: -0.74(X1) + 2.17(X2) + 0.94\n",
            "Epoch: 0003\tLoss: 0.07425\t\tRegression: -0.75(X1) + 2.15(X2) + 0.97\n",
            "Epoch: 0004\tLoss: 0.07097\t\tRegression: -0.76(X1) + 2.13(X2) + 0.99\n",
            "Epoch: 0005\tLoss: 0.06897\t\tRegression: -0.76(X1) + 2.12(X2) + 1.01\n",
            "Epoch: 0006\tLoss: 0.06769\t\tRegression: -0.77(X1) + 2.11(X2) + 1.02\n",
            "Epoch: 0007\tLoss: 0.06684\t\tRegression: -0.78(X1) + 2.11(X2) + 1.02\n",
            "Epoch: 0008\tLoss: 0.06623\t\tRegression: -0.78(X1) + 2.10(X2) + 1.03\n",
            "Epoch: 0009\tLoss: 0.06579\t\tRegression: -0.79(X1) + 2.10(X2) + 1.03\n",
            "Epoch: 0010\tLoss: 0.06545\t\tRegression: -0.79(X1) + 2.09(X2) + 1.03\n",
            "Epoch: 0011\tLoss: 0.06518\t\tRegression: -0.79(X1) + 2.09(X2) + 1.03\n",
            "Epoch: 0012\tLoss: 0.06497\t\tRegression: -0.80(X1) + 2.09(X2) + 1.03\n",
            "Epoch: 0013\tLoss: 0.06479\t\tRegression: -0.80(X1) + 2.08(X2) + 1.03\n",
            "Epoch: 0014\tLoss: 0.06465\t\tRegression: -0.80(X1) + 2.08(X2) + 1.03\n",
            "Epoch: 0015\tLoss: 0.06452\t\tRegression: -0.80(X1) + 2.08(X2) + 1.03\n",
            "Epoch: 0016\tLoss: 0.06442\t\tRegression: -0.80(X1) + 2.08(X2) + 1.03\n",
            "Epoch: 0017\tLoss: 0.06434\t\tRegression: -0.81(X1) + 2.08(X2) + 1.03\n",
            "Epoch: 0018\tLoss: 0.06427\t\tRegression: -0.81(X1) + 2.08(X2) + 1.03\n",
            "Epoch: 0019\tLoss: 0.06421\t\tRegression: -0.81(X1) + 2.08(X2) + 1.03\n",
            "Epoch: 0020\tLoss: 0.06416\t\tRegression: -0.81(X1) + 2.08(X2) + 1.03\n",
            "Epoch: 0021\tLoss: 0.06411\t\tRegression: -0.81(X1) + 2.07(X2) + 1.03\n",
            "Epoch: 0022\tLoss: 0.06407\t\tRegression: -0.81(X1) + 2.07(X2) + 1.03\n",
            "Epoch: 0023\tLoss: 0.06404\t\tRegression: -0.81(X1) + 2.07(X2) + 1.03\n",
            "Epoch: 0024\tLoss: 0.06401\t\tRegression: -0.81(X1) + 2.07(X2) + 1.03\n",
            "Epoch: 0025\tLoss: 0.06399\t\tRegression: -0.81(X1) + 2.07(X2) + 1.03\n"
          ]
        }
      ]
    },
    {
      "cell_type": "code",
      "metadata": {
        "colab": {
          "base_uri": "https://localhost:8080/",
          "height": 279
        },
        "id": "mYFUX2dggit8",
        "outputId": "ac00f4d6-e9c2-452c-add9-3c4a7d66e21a"
      },
      "source": [
        "plt.plot(cost_list)\n",
        "plt.xlabel('epochs')\n",
        "plt.ylabel('MSE')\n",
        "plt.show()"
      ],
      "execution_count": null,
      "outputs": [
        {
          "output_type": "display_data",
          "data": {
            "image/png": "[encoded data removed]",
            "text/plain": [
              "<Figure size 432x288 with 1 Axes>"
            ]
          },
          "metadata": {
            "needs_background": "light"
          }
        }
      ]
    },
    {
      "cell_type": "code",
      "metadata": {
        "id": "EQ9AZVpogn55"
      },
      "source": [
        "def testing(x):\n",
        "  yinx = np.dot(x, wts) + bias\n",
        "  # Using binary sigmoidal activation function\n",
        "  predx = 1/(1+(2.718**(-yinx)))\n",
        "  return predx[0]"
      ],
      "execution_count": null,
      "outputs": []
    },
    {
      "cell_type": "code",
      "metadata": {
        "colab": {
          "base_uri": "https://localhost:8080/"
        },
        "id": "mRuGMO7jgu2c",
        "outputId": "2eefc323-4206-445f-b252-411b907ee329"
      },
      "source": [
        "print(\"Final value of w:\", wts, \" and b:\", bias)\n",
        "print(\"Regression {:.2f}(X1) + {:.2f}(X2) + {:.2f}\".format(wts[0], wts[1], float(bias)))\n",
        "result = []\n",
        "\n",
        "print(\"\\n-------------------------------------------------\")\n",
        "x_test = np.array(X_test)\n",
        "print(\"| Expected Result\\t| Prediction\\t\\t|\")\n",
        "print(\"-------------------------------------------------\")\n",
        "for x, y in zip(x_test, y_test):\n",
        "  print(\"| \", y, \"\\t\\t\\t\\t|\", testing(x), \"\\t|\")\n",
        "  result.append(testing(x))\n",
        "print(\"-------------------------------------------------\")"
      ],
      "execution_count": null,
      "outputs": [
        {
          "output_type": "stream",
          "name": "stdout",
          "text": [
            "Final value of w: [-0.81128635  2.0726022 ]  and b: [1.03242123]\n",
            "Regression -0.81(X1) + 2.07(X2) + 1.03\n",
            "\n",
            "-------------------------------------------------\n",
            "| Expected Result\t| Prediction\t\t|\n",
            "-------------------------------------------------\n",
            "|  1 \t\t\t\t| 0.9279627694537858 \t|\n",
            "|  0 \t\t\t\t| 0.41053413413806267 \t|\n",
            "|  0 \t\t\t\t| 0.37002485078867625 \t|\n",
            "-------------------------------------------------\n"
          ]
        }
      ]
    },
    {
      "cell_type": "code",
      "metadata": {
        "colab": {
          "base_uri": "https://localhost:8080/"
        },
        "id": "Z7WnAm1IhPkC",
        "outputId": "94d0121f-531d-4700-93f6-42478a917b91"
      },
      "source": [
        "shape = 0.73\n",
        "texture = -0.63\n",
        "\n",
        "# 0: Apple | 1: Orange\n",
        "print(\"Apple\" if round(testing([shape, texture])) else \"Orange\")"
      ],
      "execution_count": null,
      "outputs": [
        {
          "output_type": "stream",
          "name": "stdout",
          "text": [
            "Orange\n"
          ]
        }
      ]
    },
    {
      "cell_type": "code",
      "metadata": {
        "colab": {
          "base_uri": "https://localhost:8080/"
        },
        "id": "d5_lmjsshTpw",
        "outputId": "09cc1c04-e4f0-45af-c002-2172c80d6d8b"
      },
      "source": [
        "shape = 0.73\n",
        "texture = 0.63\n",
        "\n",
        "# 0: Apple | 1: Orange\n",
        "print(\"Apple\" if round(testing([shape, texture])) else \"Orange\")"
      ],
      "execution_count": null,
      "outputs": [
        {
          "output_type": "stream",
          "name": "stdout",
          "text": [
            "Apple\n"
          ]
        }
      ]
    },
    {
      "cell_type": "markdown",
      "metadata": {
        "id": "HMiis0cAk4Kd"
      },
      "source": [
        "## CONCLUSION:\n",
        "\n",
        "1. I understood how to implement a neural network.\n",
        "2. I came to know about the learning rules of Neural Network.\n",
        "3. I became familiar with the terminologies like, learning rate, epochs, etc.\n",
        "\n"
      ]
    }
  ]
}